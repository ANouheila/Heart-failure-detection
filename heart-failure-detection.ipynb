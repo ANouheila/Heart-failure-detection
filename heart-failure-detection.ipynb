{
 "cells": [
  {
   "cell_type": "code",
   "execution_count": 1,
   "id": "71aabb52",
   "metadata": {
    "_cell_guid": "b1076dfc-b9ad-4769-8c92-a6c4dae69d19",
    "_uuid": "8f2839f25d086af736a60e9eeb907d3b93b6e0e5",
    "execution": {
     "iopub.execute_input": "2022-03-16T22:27:06.495938Z",
     "iopub.status.busy": "2022-03-16T22:27:06.490992Z",
     "iopub.status.idle": "2022-03-16T22:27:06.505884Z",
     "shell.execute_reply": "2022-03-16T22:27:06.505177Z"
    },
    "papermill": {
     "duration": 0.050033,
     "end_time": "2022-03-16T22:27:06.506039",
     "exception": false,
     "start_time": "2022-03-16T22:27:06.456006",
     "status": "completed"
    },
    "tags": []
   },
   "outputs": [
    {
     "name": "stdout",
     "output_type": "stream",
     "text": [
      "/kaggle/input/heart-failure-prediction/heart.csv\n"
     ]
    }
   ],
   "source": [
    "# This Python 3 environment comes with many helpful analytics libraries installed\n",
    "# It is defined by the kaggle/python Docker image: https://github.com/kaggle/docker-python\n",
    "# For example, here's several helpful packages to load\n",
    "\n",
    "import numpy as np # linear algebra\n",
    "import pandas as pd # data processing, CSV file I/O (e.g. pd.read_csv)\n",
    "\n",
    "# Input data files are available in the read-only \"../input/\" directory\n",
    "# For example, running this (by clicking run or pressing Shift+Enter) will list all files under the input directory\n",
    "\n",
    "import os\n",
    "for dirname, _, filenames in os.walk('/kaggle/input'):\n",
    "    for filename in filenames:\n",
    "        print(os.path.join(dirname, filename))\n",
    "\n",
    "# You can write up to 20GB to the current directory (/kaggle/working/) that gets preserved as output when you create a version using \"Save & Run All\" \n",
    "# You can also write temporary files to /kaggle/temp/, but they won't be saved outside of the current session"
   ]
  },
  {
   "cell_type": "code",
   "execution_count": 2,
   "id": "1fb61896",
   "metadata": {
    "execution": {
     "iopub.execute_input": "2022-03-16T22:27:06.573605Z",
     "iopub.status.busy": "2022-03-16T22:27:06.572931Z",
     "iopub.status.idle": "2022-03-16T22:27:06.574888Z",
     "shell.execute_reply": "2022-03-16T22:27:06.575461Z",
     "shell.execute_reply.started": "2022-03-16T21:06:01.423906Z"
    },
    "papermill": {
     "duration": 0.037169,
     "end_time": "2022-03-16T22:27:06.575621",
     "exception": false,
     "start_time": "2022-03-16T22:27:06.538452",
     "status": "completed"
    },
    "tags": []
   },
   "outputs": [],
   "source": [
    "import numpy as np\n",
    "import pandas as pd # data processing, CSV file I/O (e.g. pd.read_csv)\n"
   ]
  },
  {
   "cell_type": "code",
   "execution_count": 3,
   "id": "6ade3c25",
   "metadata": {
    "execution": {
     "iopub.execute_input": "2022-03-16T22:27:06.643139Z",
     "iopub.status.busy": "2022-03-16T22:27:06.642429Z",
     "iopub.status.idle": "2022-03-16T22:27:06.686283Z",
     "shell.execute_reply": "2022-03-16T22:27:06.686828Z",
     "shell.execute_reply.started": "2022-03-16T21:06:03.611465Z"
    },
    "papermill": {
     "duration": 0.079984,
     "end_time": "2022-03-16T22:27:06.687001",
     "exception": false,
     "start_time": "2022-03-16T22:27:06.607017",
     "status": "completed"
    },
    "tags": []
   },
   "outputs": [
    {
     "data": {
      "text/html": [
       "<div>\n",
       "<style scoped>\n",
       "    .dataframe tbody tr th:only-of-type {\n",
       "        vertical-align: middle;\n",
       "    }\n",
       "\n",
       "    .dataframe tbody tr th {\n",
       "        vertical-align: top;\n",
       "    }\n",
       "\n",
       "    .dataframe thead th {\n",
       "        text-align: right;\n",
       "    }\n",
       "</style>\n",
       "<table border=\"1\" class=\"dataframe\">\n",
       "  <thead>\n",
       "    <tr style=\"text-align: right;\">\n",
       "      <th></th>\n",
       "      <th>Age</th>\n",
       "      <th>Sex</th>\n",
       "      <th>ChestPainType</th>\n",
       "      <th>RestingBP</th>\n",
       "      <th>Cholesterol</th>\n",
       "      <th>FastingBS</th>\n",
       "      <th>RestingECG</th>\n",
       "      <th>MaxHR</th>\n",
       "      <th>ExerciseAngina</th>\n",
       "      <th>Oldpeak</th>\n",
       "      <th>ST_Slope</th>\n",
       "      <th>HeartDisease</th>\n",
       "    </tr>\n",
       "  </thead>\n",
       "  <tbody>\n",
       "    <tr>\n",
       "      <th>0</th>\n",
       "      <td>40</td>\n",
       "      <td>M</td>\n",
       "      <td>ATA</td>\n",
       "      <td>140</td>\n",
       "      <td>289</td>\n",
       "      <td>0</td>\n",
       "      <td>Normal</td>\n",
       "      <td>172</td>\n",
       "      <td>N</td>\n",
       "      <td>0.0</td>\n",
       "      <td>Up</td>\n",
       "      <td>0</td>\n",
       "    </tr>\n",
       "    <tr>\n",
       "      <th>1</th>\n",
       "      <td>49</td>\n",
       "      <td>F</td>\n",
       "      <td>NAP</td>\n",
       "      <td>160</td>\n",
       "      <td>180</td>\n",
       "      <td>0</td>\n",
       "      <td>Normal</td>\n",
       "      <td>156</td>\n",
       "      <td>N</td>\n",
       "      <td>1.0</td>\n",
       "      <td>Flat</td>\n",
       "      <td>1</td>\n",
       "    </tr>\n",
       "    <tr>\n",
       "      <th>2</th>\n",
       "      <td>37</td>\n",
       "      <td>M</td>\n",
       "      <td>ATA</td>\n",
       "      <td>130</td>\n",
       "      <td>283</td>\n",
       "      <td>0</td>\n",
       "      <td>ST</td>\n",
       "      <td>98</td>\n",
       "      <td>N</td>\n",
       "      <td>0.0</td>\n",
       "      <td>Up</td>\n",
       "      <td>0</td>\n",
       "    </tr>\n",
       "    <tr>\n",
       "      <th>3</th>\n",
       "      <td>48</td>\n",
       "      <td>F</td>\n",
       "      <td>ASY</td>\n",
       "      <td>138</td>\n",
       "      <td>214</td>\n",
       "      <td>0</td>\n",
       "      <td>Normal</td>\n",
       "      <td>108</td>\n",
       "      <td>Y</td>\n",
       "      <td>1.5</td>\n",
       "      <td>Flat</td>\n",
       "      <td>1</td>\n",
       "    </tr>\n",
       "    <tr>\n",
       "      <th>4</th>\n",
       "      <td>54</td>\n",
       "      <td>M</td>\n",
       "      <td>NAP</td>\n",
       "      <td>150</td>\n",
       "      <td>195</td>\n",
       "      <td>0</td>\n",
       "      <td>Normal</td>\n",
       "      <td>122</td>\n",
       "      <td>N</td>\n",
       "      <td>0.0</td>\n",
       "      <td>Up</td>\n",
       "      <td>0</td>\n",
       "    </tr>\n",
       "    <tr>\n",
       "      <th>...</th>\n",
       "      <td>...</td>\n",
       "      <td>...</td>\n",
       "      <td>...</td>\n",
       "      <td>...</td>\n",
       "      <td>...</td>\n",
       "      <td>...</td>\n",
       "      <td>...</td>\n",
       "      <td>...</td>\n",
       "      <td>...</td>\n",
       "      <td>...</td>\n",
       "      <td>...</td>\n",
       "      <td>...</td>\n",
       "    </tr>\n",
       "    <tr>\n",
       "      <th>913</th>\n",
       "      <td>45</td>\n",
       "      <td>M</td>\n",
       "      <td>TA</td>\n",
       "      <td>110</td>\n",
       "      <td>264</td>\n",
       "      <td>0</td>\n",
       "      <td>Normal</td>\n",
       "      <td>132</td>\n",
       "      <td>N</td>\n",
       "      <td>1.2</td>\n",
       "      <td>Flat</td>\n",
       "      <td>1</td>\n",
       "    </tr>\n",
       "    <tr>\n",
       "      <th>914</th>\n",
       "      <td>68</td>\n",
       "      <td>M</td>\n",
       "      <td>ASY</td>\n",
       "      <td>144</td>\n",
       "      <td>193</td>\n",
       "      <td>1</td>\n",
       "      <td>Normal</td>\n",
       "      <td>141</td>\n",
       "      <td>N</td>\n",
       "      <td>3.4</td>\n",
       "      <td>Flat</td>\n",
       "      <td>1</td>\n",
       "    </tr>\n",
       "    <tr>\n",
       "      <th>915</th>\n",
       "      <td>57</td>\n",
       "      <td>M</td>\n",
       "      <td>ASY</td>\n",
       "      <td>130</td>\n",
       "      <td>131</td>\n",
       "      <td>0</td>\n",
       "      <td>Normal</td>\n",
       "      <td>115</td>\n",
       "      <td>Y</td>\n",
       "      <td>1.2</td>\n",
       "      <td>Flat</td>\n",
       "      <td>1</td>\n",
       "    </tr>\n",
       "    <tr>\n",
       "      <th>916</th>\n",
       "      <td>57</td>\n",
       "      <td>F</td>\n",
       "      <td>ATA</td>\n",
       "      <td>130</td>\n",
       "      <td>236</td>\n",
       "      <td>0</td>\n",
       "      <td>LVH</td>\n",
       "      <td>174</td>\n",
       "      <td>N</td>\n",
       "      <td>0.0</td>\n",
       "      <td>Flat</td>\n",
       "      <td>1</td>\n",
       "    </tr>\n",
       "    <tr>\n",
       "      <th>917</th>\n",
       "      <td>38</td>\n",
       "      <td>M</td>\n",
       "      <td>NAP</td>\n",
       "      <td>138</td>\n",
       "      <td>175</td>\n",
       "      <td>0</td>\n",
       "      <td>Normal</td>\n",
       "      <td>173</td>\n",
       "      <td>N</td>\n",
       "      <td>0.0</td>\n",
       "      <td>Up</td>\n",
       "      <td>0</td>\n",
       "    </tr>\n",
       "  </tbody>\n",
       "</table>\n",
       "<p>918 rows × 12 columns</p>\n",
       "</div>"
      ],
      "text/plain": [
       "     Age Sex ChestPainType  RestingBP  Cholesterol  FastingBS RestingECG  \\\n",
       "0     40   M           ATA        140          289          0     Normal   \n",
       "1     49   F           NAP        160          180          0     Normal   \n",
       "2     37   M           ATA        130          283          0         ST   \n",
       "3     48   F           ASY        138          214          0     Normal   \n",
       "4     54   M           NAP        150          195          0     Normal   \n",
       "..   ...  ..           ...        ...          ...        ...        ...   \n",
       "913   45   M            TA        110          264          0     Normal   \n",
       "914   68   M           ASY        144          193          1     Normal   \n",
       "915   57   M           ASY        130          131          0     Normal   \n",
       "916   57   F           ATA        130          236          0        LVH   \n",
       "917   38   M           NAP        138          175          0     Normal   \n",
       "\n",
       "     MaxHR ExerciseAngina  Oldpeak ST_Slope  HeartDisease  \n",
       "0      172              N      0.0       Up             0  \n",
       "1      156              N      1.0     Flat             1  \n",
       "2       98              N      0.0       Up             0  \n",
       "3      108              Y      1.5     Flat             1  \n",
       "4      122              N      0.0       Up             0  \n",
       "..     ...            ...      ...      ...           ...  \n",
       "913    132              N      1.2     Flat             1  \n",
       "914    141              N      3.4     Flat             1  \n",
       "915    115              Y      1.2     Flat             1  \n",
       "916    174              N      0.0     Flat             1  \n",
       "917    173              N      0.0       Up             0  \n",
       "\n",
       "[918 rows x 12 columns]"
      ]
     },
     "execution_count": 3,
     "metadata": {},
     "output_type": "execute_result"
    }
   ],
   "source": [
    "data=pd.read_csv('/kaggle/input/heart-failure-prediction/heart.csv')\n",
    "data"
   ]
  },
  {
   "cell_type": "code",
   "execution_count": 4,
   "id": "7c87a7f5",
   "metadata": {
    "execution": {
     "iopub.execute_input": "2022-03-16T22:27:06.754095Z",
     "iopub.status.busy": "2022-03-16T22:27:06.753457Z",
     "iopub.status.idle": "2022-03-16T22:27:06.758342Z",
     "shell.execute_reply": "2022-03-16T22:27:06.758890Z",
     "shell.execute_reply.started": "2022-03-16T21:06:06.995487Z"
    },
    "papermill": {
     "duration": 0.039641,
     "end_time": "2022-03-16T22:27:06.759047",
     "exception": false,
     "start_time": "2022-03-16T22:27:06.719406",
     "status": "completed"
    },
    "tags": []
   },
   "outputs": [
    {
     "data": {
      "text/plain": [
       "Age                 int64\n",
       "Sex                object\n",
       "ChestPainType      object\n",
       "RestingBP           int64\n",
       "Cholesterol         int64\n",
       "FastingBS           int64\n",
       "RestingECG         object\n",
       "MaxHR               int64\n",
       "ExerciseAngina     object\n",
       "Oldpeak           float64\n",
       "ST_Slope           object\n",
       "HeartDisease        int64\n",
       "dtype: object"
      ]
     },
     "execution_count": 4,
     "metadata": {},
     "output_type": "execute_result"
    }
   ],
   "source": [
    "data.dtypes"
   ]
  },
  {
   "cell_type": "code",
   "execution_count": 5,
   "id": "52d8d929",
   "metadata": {
    "execution": {
     "iopub.execute_input": "2022-03-16T22:27:06.833186Z",
     "iopub.status.busy": "2022-03-16T22:27:06.832510Z",
     "iopub.status.idle": "2022-03-16T22:27:06.835102Z",
     "shell.execute_reply": "2022-03-16T22:27:06.835711Z",
     "shell.execute_reply.started": "2022-03-16T21:06:09.731170Z"
    },
    "papermill": {
     "duration": 0.044118,
     "end_time": "2022-03-16T22:27:06.835888",
     "exception": false,
     "start_time": "2022-03-16T22:27:06.791770",
     "status": "completed"
    },
    "tags": []
   },
   "outputs": [
    {
     "data": {
      "text/plain": [
       "Age               0\n",
       "Sex               0\n",
       "ChestPainType     0\n",
       "RestingBP         0\n",
       "Cholesterol       0\n",
       "FastingBS         0\n",
       "RestingECG        0\n",
       "MaxHR             0\n",
       "ExerciseAngina    0\n",
       "Oldpeak           0\n",
       "ST_Slope          0\n",
       "HeartDisease      0\n",
       "dtype: int64"
      ]
     },
     "execution_count": 5,
     "metadata": {},
     "output_type": "execute_result"
    }
   ],
   "source": [
    "data.isnull().sum()"
   ]
  },
  {
   "cell_type": "code",
   "execution_count": 6,
   "id": "b9ce2fac",
   "metadata": {
    "execution": {
     "iopub.execute_input": "2022-03-16T22:27:06.905624Z",
     "iopub.status.busy": "2022-03-16T22:27:06.904918Z",
     "iopub.status.idle": "2022-03-16T22:27:06.915341Z",
     "shell.execute_reply": "2022-03-16T22:27:06.914760Z",
     "shell.execute_reply.started": "2022-03-16T21:06:11.874557Z"
    },
    "papermill": {
     "duration": 0.046609,
     "end_time": "2022-03-16T22:27:06.915479",
     "exception": false,
     "start_time": "2022-03-16T22:27:06.868870",
     "status": "completed"
    },
    "tags": []
   },
   "outputs": [
    {
     "data": {
      "text/plain": [
       "0      0\n",
       "1      1\n",
       "2      0\n",
       "3      1\n",
       "4      0\n",
       "      ..\n",
       "913    1\n",
       "914    1\n",
       "915    1\n",
       "916    1\n",
       "917    0\n",
       "Name: HeartDisease, Length: 918, dtype: int64"
      ]
     },
     "execution_count": 6,
     "metadata": {},
     "output_type": "execute_result"
    }
   ],
   "source": [
    "#extracting features\n",
    "x=data.iloc[:,0:11]\n",
    "#extracting he target\n",
    "y=data['HeartDisease']\n",
    "y"
   ]
  },
  {
   "cell_type": "code",
   "execution_count": 7,
   "id": "f0358aa6",
   "metadata": {
    "execution": {
     "iopub.execute_input": "2022-03-16T22:27:06.990965Z",
     "iopub.status.busy": "2022-03-16T22:27:06.990181Z",
     "iopub.status.idle": "2022-03-16T22:27:06.993207Z",
     "shell.execute_reply": "2022-03-16T22:27:06.993729Z",
     "shell.execute_reply.started": "2022-03-16T21:06:14.824249Z"
    },
    "papermill": {
     "duration": 0.044619,
     "end_time": "2022-03-16T22:27:06.993889",
     "exception": false,
     "start_time": "2022-03-16T22:27:06.949270",
     "status": "completed"
    },
    "tags": []
   },
   "outputs": [
    {
     "data": {
      "text/plain": [
       "array([40, 49, 37, 48, 54, 39, 45, 58, 42, 38, 43, 60, 36, 44, 53, 52, 51,\n",
       "       56, 41, 32, 65, 35, 59, 50, 47, 31, 46, 57, 55, 63, 66, 34, 33, 61,\n",
       "       29, 62, 28, 30, 74, 68, 72, 64, 69, 67, 73, 70, 77, 75, 76, 71])"
      ]
     },
     "execution_count": 7,
     "metadata": {},
     "output_type": "execute_result"
    }
   ],
   "source": [
    "data.Age.unique()"
   ]
  },
  {
   "cell_type": "code",
   "execution_count": 8,
   "id": "a6a040ca",
   "metadata": {
    "execution": {
     "iopub.execute_input": "2022-03-16T22:27:07.069712Z",
     "iopub.status.busy": "2022-03-16T22:27:07.068948Z",
     "iopub.status.idle": "2022-03-16T22:27:07.071892Z",
     "shell.execute_reply": "2022-03-16T22:27:07.072446Z",
     "shell.execute_reply.started": "2022-03-16T21:06:17.121737Z"
    },
    "papermill": {
     "duration": 0.044821,
     "end_time": "2022-03-16T22:27:07.072603",
     "exception": false,
     "start_time": "2022-03-16T22:27:07.027782",
     "status": "completed"
    },
    "tags": []
   },
   "outputs": [
    {
     "data": {
      "text/plain": [
       "array([0, 1])"
      ]
     },
     "execution_count": 8,
     "metadata": {},
     "output_type": "execute_result"
    }
   ],
   "source": [
    "#target 0 or 1 heart disease\n",
    "data.iloc[:,11].unique()"
   ]
  },
  {
   "cell_type": "code",
   "execution_count": 9,
   "id": "bdaadd71",
   "metadata": {
    "execution": {
     "iopub.execute_input": "2022-03-16T22:27:07.147734Z",
     "iopub.status.busy": "2022-03-16T22:27:07.146897Z",
     "iopub.status.idle": "2022-03-16T22:27:07.149570Z",
     "shell.execute_reply": "2022-03-16T22:27:07.148986Z",
     "shell.execute_reply.started": "2022-03-16T21:06:19.293296Z"
    },
    "papermill": {
     "duration": 0.042236,
     "end_time": "2022-03-16T22:27:07.149710",
     "exception": false,
     "start_time": "2022-03-16T22:27:07.107474",
     "status": "completed"
    },
    "tags": []
   },
   "outputs": [],
   "source": [
    "nomi_col=[2,6,10]\n",
    "ordi_col=[1,8]\n",
    "num_col=[0,3,4,5,7,9]# numerical columns"
   ]
  },
  {
   "cell_type": "code",
   "execution_count": 10,
   "id": "96acda45",
   "metadata": {
    "execution": {
     "iopub.execute_input": "2022-03-16T22:27:07.223470Z",
     "iopub.status.busy": "2022-03-16T22:27:07.222605Z",
     "iopub.status.idle": "2022-03-16T22:27:08.186581Z",
     "shell.execute_reply": "2022-03-16T22:27:08.186003Z",
     "shell.execute_reply.started": "2022-03-16T21:06:21.893168Z"
    },
    "papermill": {
     "duration": 1.001919,
     "end_time": "2022-03-16T22:27:08.186727",
     "exception": false,
     "start_time": "2022-03-16T22:27:07.184808",
     "status": "completed"
    },
    "tags": []
   },
   "outputs": [
    {
     "data": {
      "text/html": [
       "<style>#sk-4044f3d2-a205-4420-a59c-34b71c42a23f {color: black;background-color: white;}#sk-4044f3d2-a205-4420-a59c-34b71c42a23f pre{padding: 0;}#sk-4044f3d2-a205-4420-a59c-34b71c42a23f div.sk-toggleable {background-color: white;}#sk-4044f3d2-a205-4420-a59c-34b71c42a23f label.sk-toggleable__label {cursor: pointer;display: block;width: 100%;margin-bottom: 0;padding: 0.3em;box-sizing: border-box;text-align: center;}#sk-4044f3d2-a205-4420-a59c-34b71c42a23f div.sk-toggleable__content {max-height: 0;max-width: 0;overflow: hidden;text-align: left;background-color: #f0f8ff;}#sk-4044f3d2-a205-4420-a59c-34b71c42a23f div.sk-toggleable__content pre {margin: 0.2em;color: black;border-radius: 0.25em;background-color: #f0f8ff;}#sk-4044f3d2-a205-4420-a59c-34b71c42a23f input.sk-toggleable__control:checked~div.sk-toggleable__content {max-height: 200px;max-width: 100%;overflow: auto;}#sk-4044f3d2-a205-4420-a59c-34b71c42a23f div.sk-estimator input.sk-toggleable__control:checked~label.sk-toggleable__label {background-color: #d4ebff;}#sk-4044f3d2-a205-4420-a59c-34b71c42a23f div.sk-label input.sk-toggleable__control:checked~label.sk-toggleable__label {background-color: #d4ebff;}#sk-4044f3d2-a205-4420-a59c-34b71c42a23f input.sk-hidden--visually {border: 0;clip: rect(1px 1px 1px 1px);clip: rect(1px, 1px, 1px, 1px);height: 1px;margin: -1px;overflow: hidden;padding: 0;position: absolute;width: 1px;}#sk-4044f3d2-a205-4420-a59c-34b71c42a23f div.sk-estimator {font-family: monospace;background-color: #f0f8ff;border: 1px dotted black;border-radius: 0.25em;box-sizing: border-box;margin-bottom: 0.5em;}#sk-4044f3d2-a205-4420-a59c-34b71c42a23f div.sk-estimator:hover {background-color: #d4ebff;}#sk-4044f3d2-a205-4420-a59c-34b71c42a23f div.sk-parallel-item::after {content: \"\";width: 100%;border-bottom: 1px solid gray;flex-grow: 1;}#sk-4044f3d2-a205-4420-a59c-34b71c42a23f div.sk-label:hover label.sk-toggleable__label {background-color: #d4ebff;}#sk-4044f3d2-a205-4420-a59c-34b71c42a23f div.sk-serial::before {content: \"\";position: absolute;border-left: 1px solid gray;box-sizing: border-box;top: 2em;bottom: 0;left: 50%;}#sk-4044f3d2-a205-4420-a59c-34b71c42a23f div.sk-serial {display: flex;flex-direction: column;align-items: center;background-color: white;padding-right: 0.2em;padding-left: 0.2em;}#sk-4044f3d2-a205-4420-a59c-34b71c42a23f div.sk-item {z-index: 1;}#sk-4044f3d2-a205-4420-a59c-34b71c42a23f div.sk-parallel {display: flex;align-items: stretch;justify-content: center;background-color: white;}#sk-4044f3d2-a205-4420-a59c-34b71c42a23f div.sk-parallel::before {content: \"\";position: absolute;border-left: 1px solid gray;box-sizing: border-box;top: 2em;bottom: 0;left: 50%;}#sk-4044f3d2-a205-4420-a59c-34b71c42a23f div.sk-parallel-item {display: flex;flex-direction: column;position: relative;background-color: white;}#sk-4044f3d2-a205-4420-a59c-34b71c42a23f div.sk-parallel-item:first-child::after {align-self: flex-end;width: 50%;}#sk-4044f3d2-a205-4420-a59c-34b71c42a23f div.sk-parallel-item:last-child::after {align-self: flex-start;width: 50%;}#sk-4044f3d2-a205-4420-a59c-34b71c42a23f div.sk-parallel-item:only-child::after {width: 0;}#sk-4044f3d2-a205-4420-a59c-34b71c42a23f div.sk-dashed-wrapped {border: 1px dashed gray;margin: 0 0.4em 0.5em 0.4em;box-sizing: border-box;padding-bottom: 0.4em;background-color: white;position: relative;}#sk-4044f3d2-a205-4420-a59c-34b71c42a23f div.sk-label label {font-family: monospace;font-weight: bold;background-color: white;display: inline-block;line-height: 1.2em;}#sk-4044f3d2-a205-4420-a59c-34b71c42a23f div.sk-label-container {position: relative;z-index: 2;text-align: center;}#sk-4044f3d2-a205-4420-a59c-34b71c42a23f div.sk-container {display: inline-block;position: relative;}</style><div id=\"sk-4044f3d2-a205-4420-a59c-34b71c42a23f\" class\"sk-top-container\"><div class=\"sk-container\"><div class=\"sk-item sk-dashed-wrapped\"><div class=\"sk-label-container\"><div class=\"sk-label sk-toggleable\"><input class=\"sk-toggleable__control sk-hidden--visually\" id=\"e50b298b-ca72-4b0a-9c30-fdd2dd517f31\" type=\"checkbox\" ><label class=\"sk-toggleable__label\" for=\"e50b298b-ca72-4b0a-9c30-fdd2dd517f31\">ColumnTransformer</label><div class=\"sk-toggleable__content\"><pre>ColumnTransformer(remainder='passthrough',\n",
       "                  transformers=[('onehotencoder', OneHotEncoder(sparse=False),\n",
       "                                 [2, 6, 10]),\n",
       "                                ('ordinalencoder', OrdinalEncoder(), [1, 8]),\n",
       "                                ('standardscaler', StandardScaler(),\n",
       "                                 [0, 3, 4, 5, 7, 9])])</pre></div></div></div><div class=\"sk-parallel\"><div class=\"sk-parallel-item\"><div class=\"sk-item\"><div class=\"sk-label-container\"><div class=\"sk-label sk-toggleable\"><input class=\"sk-toggleable__control sk-hidden--visually\" id=\"5ce4b514-9550-4c6f-a7f8-889a6b2dd399\" type=\"checkbox\" ><label class=\"sk-toggleable__label\" for=\"5ce4b514-9550-4c6f-a7f8-889a6b2dd399\">onehotencoder</label><div class=\"sk-toggleable__content\"><pre>[2, 6, 10]</pre></div></div></div><div class=\"sk-serial\"><div class=\"sk-item\"><div class=\"sk-estimator sk-toggleable\"><input class=\"sk-toggleable__control sk-hidden--visually\" id=\"22f3a2b2-734b-4f36-b89b-31e685c84666\" type=\"checkbox\" ><label class=\"sk-toggleable__label\" for=\"22f3a2b2-734b-4f36-b89b-31e685c84666\">OneHotEncoder</label><div class=\"sk-toggleable__content\"><pre>OneHotEncoder(sparse=False)</pre></div></div></div></div></div></div><div class=\"sk-parallel-item\"><div class=\"sk-item\"><div class=\"sk-label-container\"><div class=\"sk-label sk-toggleable\"><input class=\"sk-toggleable__control sk-hidden--visually\" id=\"d435846a-df2d-4bae-8193-7d4b7db8fccd\" type=\"checkbox\" ><label class=\"sk-toggleable__label\" for=\"d435846a-df2d-4bae-8193-7d4b7db8fccd\">ordinalencoder</label><div class=\"sk-toggleable__content\"><pre>[1, 8]</pre></div></div></div><div class=\"sk-serial\"><div class=\"sk-item\"><div class=\"sk-estimator sk-toggleable\"><input class=\"sk-toggleable__control sk-hidden--visually\" id=\"eedc56c5-f13f-4c56-a1b6-971816f18967\" type=\"checkbox\" ><label class=\"sk-toggleable__label\" for=\"eedc56c5-f13f-4c56-a1b6-971816f18967\">OrdinalEncoder</label><div class=\"sk-toggleable__content\"><pre>OrdinalEncoder()</pre></div></div></div></div></div></div><div class=\"sk-parallel-item\"><div class=\"sk-item\"><div class=\"sk-label-container\"><div class=\"sk-label sk-toggleable\"><input class=\"sk-toggleable__control sk-hidden--visually\" id=\"fb942998-1c61-4595-b3aa-096eb97d2644\" type=\"checkbox\" ><label class=\"sk-toggleable__label\" for=\"fb942998-1c61-4595-b3aa-096eb97d2644\">standardscaler</label><div class=\"sk-toggleable__content\"><pre>[0, 3, 4, 5, 7, 9]</pre></div></div></div><div class=\"sk-serial\"><div class=\"sk-item\"><div class=\"sk-estimator sk-toggleable\"><input class=\"sk-toggleable__control sk-hidden--visually\" id=\"6bb482f6-2830-441f-acbc-e78365637ad9\" type=\"checkbox\" ><label class=\"sk-toggleable__label\" for=\"6bb482f6-2830-441f-acbc-e78365637ad9\">StandardScaler</label><div class=\"sk-toggleable__content\"><pre>StandardScaler()</pre></div></div></div></div></div></div><div class=\"sk-parallel-item\"><div class=\"sk-item\"><div class=\"sk-label-container\"><div class=\"sk-label sk-toggleable\"><input class=\"sk-toggleable__control sk-hidden--visually\" id=\"2eac6345-6d70-4cc6-ad2b-f4af768e4852\" type=\"checkbox\" ><label class=\"sk-toggleable__label\" for=\"2eac6345-6d70-4cc6-ad2b-f4af768e4852\">remainder</label><div class=\"sk-toggleable__content\"><pre></pre></div></div></div><div class=\"sk-serial\"><div class=\"sk-item\"><div class=\"sk-estimator sk-toggleable\"><input class=\"sk-toggleable__control sk-hidden--visually\" id=\"8b0f1ff0-e3ad-47fc-9a02-60f0c04ceb66\" type=\"checkbox\" ><label class=\"sk-toggleable__label\" for=\"8b0f1ff0-e3ad-47fc-9a02-60f0c04ceb66\">passthrough</label><div class=\"sk-toggleable__content\"><pre>passthrough</pre></div></div></div></div></div></div></div></div></div></div>"
      ],
      "text/plain": [
       "ColumnTransformer(remainder='passthrough',\n",
       "                  transformers=[('onehotencoder', OneHotEncoder(sparse=False),\n",
       "                                 [2, 6, 10]),\n",
       "                                ('ordinalencoder', OrdinalEncoder(), [1, 8]),\n",
       "                                ('standardscaler', StandardScaler(),\n",
       "                                 [0, 3, 4, 5, 7, 9])])"
      ]
     },
     "execution_count": 10,
     "metadata": {},
     "output_type": "execute_result"
    }
   ],
   "source": [
    "from sklearn.preprocessing import OneHotEncoder,OrdinalEncoder,StandardScaler\n",
    "from sklearn.compose import make_column_transformer\n",
    "from sklearn import set_config\n",
    "trans = make_column_transformer((OneHotEncoder(sparse=False),nomi_col),\n",
    "                               (OrdinalEncoder(),ordi_col),\n",
    "                               (StandardScaler(),num_col),\n",
    "                                remainder='passthrough')\n",
    "set_config(display='diagram')\n",
    "trans"
   ]
  },
  {
   "cell_type": "code",
   "execution_count": 11,
   "id": "4790664b",
   "metadata": {
    "execution": {
     "iopub.execute_input": "2022-03-16T22:27:08.263078Z",
     "iopub.status.busy": "2022-03-16T22:27:08.262408Z",
     "iopub.status.idle": "2022-03-16T22:27:08.305173Z",
     "shell.execute_reply": "2022-03-16T22:27:08.305741Z",
     "shell.execute_reply.started": "2022-03-16T21:13:41.627387Z"
    },
    "papermill": {
     "duration": 0.083751,
     "end_time": "2022-03-16T22:27:08.305914",
     "exception": false,
     "start_time": "2022-03-16T22:27:08.222163",
     "status": "completed"
    },
    "tags": []
   },
   "outputs": [],
   "source": [
    "#is a technique for evaluating the performance of a machine learning algorithm\n",
    "from sklearn.model_selection import train_test_split\n",
    "x_train,x_test,y_train,y_test=train_test_split(x,y,test_size= 0.2)"
   ]
  },
  {
   "cell_type": "code",
   "execution_count": 12,
   "id": "9a2960af",
   "metadata": {
    "execution": {
     "iopub.execute_input": "2022-03-16T22:27:08.379394Z",
     "iopub.status.busy": "2022-03-16T22:27:08.378736Z",
     "iopub.status.idle": "2022-03-16T22:27:08.528939Z",
     "shell.execute_reply": "2022-03-16T22:27:08.529574Z",
     "shell.execute_reply.started": "2022-03-16T21:43:47.242722Z"
    },
    "papermill": {
     "duration": 0.188401,
     "end_time": "2022-03-16T22:27:08.529749",
     "exception": false,
     "start_time": "2022-03-16T22:27:08.341348",
     "status": "completed"
    },
    "tags": []
   },
   "outputs": [
    {
     "data": {
      "text/html": [
       "<style>#sk-dee2f99d-f9af-4daf-b3f8-49f40538b837 {color: black;background-color: white;}#sk-dee2f99d-f9af-4daf-b3f8-49f40538b837 pre{padding: 0;}#sk-dee2f99d-f9af-4daf-b3f8-49f40538b837 div.sk-toggleable {background-color: white;}#sk-dee2f99d-f9af-4daf-b3f8-49f40538b837 label.sk-toggleable__label {cursor: pointer;display: block;width: 100%;margin-bottom: 0;padding: 0.3em;box-sizing: border-box;text-align: center;}#sk-dee2f99d-f9af-4daf-b3f8-49f40538b837 div.sk-toggleable__content {max-height: 0;max-width: 0;overflow: hidden;text-align: left;background-color: #f0f8ff;}#sk-dee2f99d-f9af-4daf-b3f8-49f40538b837 div.sk-toggleable__content pre {margin: 0.2em;color: black;border-radius: 0.25em;background-color: #f0f8ff;}#sk-dee2f99d-f9af-4daf-b3f8-49f40538b837 input.sk-toggleable__control:checked~div.sk-toggleable__content {max-height: 200px;max-width: 100%;overflow: auto;}#sk-dee2f99d-f9af-4daf-b3f8-49f40538b837 div.sk-estimator input.sk-toggleable__control:checked~label.sk-toggleable__label {background-color: #d4ebff;}#sk-dee2f99d-f9af-4daf-b3f8-49f40538b837 div.sk-label input.sk-toggleable__control:checked~label.sk-toggleable__label {background-color: #d4ebff;}#sk-dee2f99d-f9af-4daf-b3f8-49f40538b837 input.sk-hidden--visually {border: 0;clip: rect(1px 1px 1px 1px);clip: rect(1px, 1px, 1px, 1px);height: 1px;margin: -1px;overflow: hidden;padding: 0;position: absolute;width: 1px;}#sk-dee2f99d-f9af-4daf-b3f8-49f40538b837 div.sk-estimator {font-family: monospace;background-color: #f0f8ff;border: 1px dotted black;border-radius: 0.25em;box-sizing: border-box;margin-bottom: 0.5em;}#sk-dee2f99d-f9af-4daf-b3f8-49f40538b837 div.sk-estimator:hover {background-color: #d4ebff;}#sk-dee2f99d-f9af-4daf-b3f8-49f40538b837 div.sk-parallel-item::after {content: \"\";width: 100%;border-bottom: 1px solid gray;flex-grow: 1;}#sk-dee2f99d-f9af-4daf-b3f8-49f40538b837 div.sk-label:hover label.sk-toggleable__label {background-color: #d4ebff;}#sk-dee2f99d-f9af-4daf-b3f8-49f40538b837 div.sk-serial::before {content: \"\";position: absolute;border-left: 1px solid gray;box-sizing: border-box;top: 2em;bottom: 0;left: 50%;}#sk-dee2f99d-f9af-4daf-b3f8-49f40538b837 div.sk-serial {display: flex;flex-direction: column;align-items: center;background-color: white;padding-right: 0.2em;padding-left: 0.2em;}#sk-dee2f99d-f9af-4daf-b3f8-49f40538b837 div.sk-item {z-index: 1;}#sk-dee2f99d-f9af-4daf-b3f8-49f40538b837 div.sk-parallel {display: flex;align-items: stretch;justify-content: center;background-color: white;}#sk-dee2f99d-f9af-4daf-b3f8-49f40538b837 div.sk-parallel::before {content: \"\";position: absolute;border-left: 1px solid gray;box-sizing: border-box;top: 2em;bottom: 0;left: 50%;}#sk-dee2f99d-f9af-4daf-b3f8-49f40538b837 div.sk-parallel-item {display: flex;flex-direction: column;position: relative;background-color: white;}#sk-dee2f99d-f9af-4daf-b3f8-49f40538b837 div.sk-parallel-item:first-child::after {align-self: flex-end;width: 50%;}#sk-dee2f99d-f9af-4daf-b3f8-49f40538b837 div.sk-parallel-item:last-child::after {align-self: flex-start;width: 50%;}#sk-dee2f99d-f9af-4daf-b3f8-49f40538b837 div.sk-parallel-item:only-child::after {width: 0;}#sk-dee2f99d-f9af-4daf-b3f8-49f40538b837 div.sk-dashed-wrapped {border: 1px dashed gray;margin: 0 0.4em 0.5em 0.4em;box-sizing: border-box;padding-bottom: 0.4em;background-color: white;position: relative;}#sk-dee2f99d-f9af-4daf-b3f8-49f40538b837 div.sk-label label {font-family: monospace;font-weight: bold;background-color: white;display: inline-block;line-height: 1.2em;}#sk-dee2f99d-f9af-4daf-b3f8-49f40538b837 div.sk-label-container {position: relative;z-index: 2;text-align: center;}#sk-dee2f99d-f9af-4daf-b3f8-49f40538b837 div.sk-container {display: inline-block;position: relative;}</style><div id=\"sk-dee2f99d-f9af-4daf-b3f8-49f40538b837\" class\"sk-top-container\"><div class=\"sk-container\"><div class=\"sk-item sk-dashed-wrapped\"><div class=\"sk-label-container\"><div class=\"sk-label sk-toggleable\"><input class=\"sk-toggleable__control sk-hidden--visually\" id=\"fae6e74e-9e02-4c93-a0c7-7aa74ed3750c\" type=\"checkbox\" ><label class=\"sk-toggleable__label\" for=\"fae6e74e-9e02-4c93-a0c7-7aa74ed3750c\">Pipeline</label><div class=\"sk-toggleable__content\"><pre>Pipeline(steps=[('columntransformer',\n",
       "                 ColumnTransformer(remainder='passthrough',\n",
       "                                   transformers=[('onehotencoder',\n",
       "                                                  OneHotEncoder(sparse=False),\n",
       "                                                  [2, 6, 10]),\n",
       "                                                 ('ordinalencoder',\n",
       "                                                  OrdinalEncoder(), [1, 8]),\n",
       "                                                 ('standardscaler',\n",
       "                                                  StandardScaler(),\n",
       "                                                  [0, 3, 4, 5, 7, 9])])),\n",
       "                ('kneighborsclassifier', KNeighborsClassifier(n_neighbors=10))])</pre></div></div></div><div class=\"sk-serial\"><div class=\"sk-item sk-dashed-wrapped\"><div class=\"sk-label-container\"><div class=\"sk-label sk-toggleable\"><input class=\"sk-toggleable__control sk-hidden--visually\" id=\"3b393f70-1afe-4d4c-ab9b-e952cb1bd2ab\" type=\"checkbox\" ><label class=\"sk-toggleable__label\" for=\"3b393f70-1afe-4d4c-ab9b-e952cb1bd2ab\">columntransformer: ColumnTransformer</label><div class=\"sk-toggleable__content\"><pre>ColumnTransformer(remainder='passthrough',\n",
       "                  transformers=[('onehotencoder', OneHotEncoder(sparse=False),\n",
       "                                 [2, 6, 10]),\n",
       "                                ('ordinalencoder', OrdinalEncoder(), [1, 8]),\n",
       "                                ('standardscaler', StandardScaler(),\n",
       "                                 [0, 3, 4, 5, 7, 9])])</pre></div></div></div><div class=\"sk-parallel\"><div class=\"sk-parallel-item\"><div class=\"sk-item\"><div class=\"sk-label-container\"><div class=\"sk-label sk-toggleable\"><input class=\"sk-toggleable__control sk-hidden--visually\" id=\"9d8f12a6-822c-4c0e-a71f-5553ab4ce546\" type=\"checkbox\" ><label class=\"sk-toggleable__label\" for=\"9d8f12a6-822c-4c0e-a71f-5553ab4ce546\">onehotencoder</label><div class=\"sk-toggleable__content\"><pre>[2, 6, 10]</pre></div></div></div><div class=\"sk-serial\"><div class=\"sk-item\"><div class=\"sk-estimator sk-toggleable\"><input class=\"sk-toggleable__control sk-hidden--visually\" id=\"4aa36e20-217e-440d-b97b-4bc3f415c5e4\" type=\"checkbox\" ><label class=\"sk-toggleable__label\" for=\"4aa36e20-217e-440d-b97b-4bc3f415c5e4\">OneHotEncoder</label><div class=\"sk-toggleable__content\"><pre>OneHotEncoder(sparse=False)</pre></div></div></div></div></div></div><div class=\"sk-parallel-item\"><div class=\"sk-item\"><div class=\"sk-label-container\"><div class=\"sk-label sk-toggleable\"><input class=\"sk-toggleable__control sk-hidden--visually\" id=\"b2677817-944b-4512-a1c6-f9807821ef17\" type=\"checkbox\" ><label class=\"sk-toggleable__label\" for=\"b2677817-944b-4512-a1c6-f9807821ef17\">ordinalencoder</label><div class=\"sk-toggleable__content\"><pre>[1, 8]</pre></div></div></div><div class=\"sk-serial\"><div class=\"sk-item\"><div class=\"sk-estimator sk-toggleable\"><input class=\"sk-toggleable__control sk-hidden--visually\" id=\"96487b8c-942c-42eb-bc6a-a6b19a1dea00\" type=\"checkbox\" ><label class=\"sk-toggleable__label\" for=\"96487b8c-942c-42eb-bc6a-a6b19a1dea00\">OrdinalEncoder</label><div class=\"sk-toggleable__content\"><pre>OrdinalEncoder()</pre></div></div></div></div></div></div><div class=\"sk-parallel-item\"><div class=\"sk-item\"><div class=\"sk-label-container\"><div class=\"sk-label sk-toggleable\"><input class=\"sk-toggleable__control sk-hidden--visually\" id=\"d901d7f0-f6b2-4a96-a2fe-d1304415422f\" type=\"checkbox\" ><label class=\"sk-toggleable__label\" for=\"d901d7f0-f6b2-4a96-a2fe-d1304415422f\">standardscaler</label><div class=\"sk-toggleable__content\"><pre>[0, 3, 4, 5, 7, 9]</pre></div></div></div><div class=\"sk-serial\"><div class=\"sk-item\"><div class=\"sk-estimator sk-toggleable\"><input class=\"sk-toggleable__control sk-hidden--visually\" id=\"ed2e47f7-ff8a-4da1-a923-ae37f1fad7a6\" type=\"checkbox\" ><label class=\"sk-toggleable__label\" for=\"ed2e47f7-ff8a-4da1-a923-ae37f1fad7a6\">StandardScaler</label><div class=\"sk-toggleable__content\"><pre>StandardScaler()</pre></div></div></div></div></div></div><div class=\"sk-parallel-item\"><div class=\"sk-item\"><div class=\"sk-label-container\"><div class=\"sk-label sk-toggleable\"><input class=\"sk-toggleable__control sk-hidden--visually\" id=\"e84bf516-dd50-4966-b1f1-e33f55e6af29\" type=\"checkbox\" ><label class=\"sk-toggleable__label\" for=\"e84bf516-dd50-4966-b1f1-e33f55e6af29\">remainder</label><div class=\"sk-toggleable__content\"><pre>[]</pre></div></div></div><div class=\"sk-serial\"><div class=\"sk-item\"><div class=\"sk-estimator sk-toggleable\"><input class=\"sk-toggleable__control sk-hidden--visually\" id=\"60f0ff26-e5ac-4eb7-878c-9acc456ad96b\" type=\"checkbox\" ><label class=\"sk-toggleable__label\" for=\"60f0ff26-e5ac-4eb7-878c-9acc456ad96b\">passthrough</label><div class=\"sk-toggleable__content\"><pre>passthrough</pre></div></div></div></div></div></div></div></div><div class=\"sk-item\"><div class=\"sk-estimator sk-toggleable\"><input class=\"sk-toggleable__control sk-hidden--visually\" id=\"4930b3df-6b48-42e8-8e20-09a0e567e7ff\" type=\"checkbox\" ><label class=\"sk-toggleable__label\" for=\"4930b3df-6b48-42e8-8e20-09a0e567e7ff\">KNeighborsClassifier</label><div class=\"sk-toggleable__content\"><pre>KNeighborsClassifier(n_neighbors=10)</pre></div></div></div></div></div></div></div>"
      ],
      "text/plain": [
       "Pipeline(steps=[('columntransformer',\n",
       "                 ColumnTransformer(remainder='passthrough',\n",
       "                                   transformers=[('onehotencoder',\n",
       "                                                  OneHotEncoder(sparse=False),\n",
       "                                                  [2, 6, 10]),\n",
       "                                                 ('ordinalencoder',\n",
       "                                                  OrdinalEncoder(), [1, 8]),\n",
       "                                                 ('standardscaler',\n",
       "                                                  StandardScaler(),\n",
       "                                                  [0, 3, 4, 5, 7, 9])])),\n",
       "                ('kneighborsclassifier', KNeighborsClassifier(n_neighbors=10))])"
      ]
     },
     "execution_count": 12,
     "metadata": {},
     "output_type": "execute_result"
    }
   ],
   "source": [
    "from sklearn.neighbors import KNeighborsClassifier\n",
    "from sklearn.pipeline import make_pipeline\n",
    "Model= KNeighborsClassifier(10)\n",
    "pipe = make_pipeline(trans, Model)\n",
    "pipe.fit(x_train,y_train)\n",
    "\n"
   ]
  },
  {
   "cell_type": "code",
   "execution_count": 13,
   "id": "b8e03220",
   "metadata": {
    "execution": {
     "iopub.execute_input": "2022-03-16T22:27:08.604811Z",
     "iopub.status.busy": "2022-03-16T22:27:08.604132Z",
     "iopub.status.idle": "2022-03-16T22:27:08.645851Z",
     "shell.execute_reply": "2022-03-16T22:27:08.646613Z",
     "shell.execute_reply.started": "2022-03-16T21:53:09.477730Z"
    },
    "papermill": {
     "duration": 0.08106,
     "end_time": "2022-03-16T22:27:08.646821",
     "exception": false,
     "start_time": "2022-03-16T22:27:08.565761",
     "status": "completed"
    },
    "tags": []
   },
   "outputs": [
    {
     "data": {
      "text/plain": [
       "array([1, 0, 0, 1, 1, 1, 1, 1, 0, 1, 0, 1, 1, 1, 1, 1, 1, 0, 1, 0, 1, 0,\n",
       "       1, 1, 1, 0, 0, 0, 1, 0, 0, 1, 0, 1, 1, 1, 0, 0, 1, 1, 1, 0, 0, 0,\n",
       "       1, 0, 0, 1, 0, 1, 0, 1, 1, 0, 1, 1, 0, 0, 1, 0, 1, 0, 0, 1, 1, 1,\n",
       "       1, 1, 0, 1, 0, 1, 0, 0, 1, 0, 0, 1, 1, 0, 0, 1, 1, 0, 1, 1, 0, 1,\n",
       "       0, 1, 0, 0, 1, 1, 1, 0, 0, 1, 1, 0, 0, 1, 0, 1, 1, 1, 0, 0, 1, 1,\n",
       "       1, 0, 0, 1, 1, 1, 1, 1, 0, 1, 1, 0, 1, 0, 0, 0, 1, 1, 0, 0, 1, 0,\n",
       "       1, 1, 1, 0, 1, 0, 0, 1, 0, 1, 0, 0, 1, 1, 1, 1, 1, 0, 1, 0, 0, 1,\n",
       "       0, 0, 0, 1, 0, 0, 0, 1, 0, 0, 0, 0, 0, 1, 1, 0, 1, 0, 1, 0, 1, 0,\n",
       "       1, 1, 1, 0, 1, 0, 1, 1])"
      ]
     },
     "execution_count": 13,
     "metadata": {},
     "output_type": "execute_result"
    }
   ],
   "source": [
    "pred=pipe.predict (x_test)\n",
    "pred"
   ]
  },
  {
   "cell_type": "code",
   "execution_count": 14,
   "id": "55a2306c",
   "metadata": {
    "execution": {
     "iopub.execute_input": "2022-03-16T22:27:08.740284Z",
     "iopub.status.busy": "2022-03-16T22:27:08.739593Z",
     "iopub.status.idle": "2022-03-16T22:27:08.742314Z",
     "shell.execute_reply": "2022-03-16T22:27:08.742836Z",
     "shell.execute_reply.started": "2022-03-16T21:53:22.828457Z"
    },
    "papermill": {
     "duration": 0.052576,
     "end_time": "2022-03-16T22:27:08.743022",
     "exception": false,
     "start_time": "2022-03-16T22:27:08.690446",
     "status": "completed"
    },
    "tags": []
   },
   "outputs": [
    {
     "data": {
      "text/plain": [
       "84.23913043478261"
      ]
     },
     "execution_count": 14,
     "metadata": {},
     "output_type": "execute_result"
    }
   ],
   "source": [
    "from sklearn.metrics import accuracy_score\n",
    "accuracy_score(pred, y_test)*100"
   ]
  },
  {
   "cell_type": "code",
   "execution_count": 15,
   "id": "e40094d7",
   "metadata": {
    "execution": {
     "iopub.execute_input": "2022-03-16T22:27:08.821903Z",
     "iopub.status.busy": "2022-03-16T22:27:08.821207Z",
     "iopub.status.idle": "2022-03-16T22:27:08.853965Z",
     "shell.execute_reply": "2022-03-16T22:27:08.853302Z",
     "shell.execute_reply.started": "2022-03-16T22:04:21.614332Z"
    },
    "papermill": {
     "duration": 0.07308,
     "end_time": "2022-03-16T22:27:08.854123",
     "exception": false,
     "start_time": "2022-03-16T22:27:08.781043",
     "status": "completed"
    },
    "tags": []
   },
   "outputs": [
    {
     "data": {
      "text/html": [
       "<style>#sk-2b796a89-af2c-4eb1-8561-cf33b17db054 {color: black;background-color: white;}#sk-2b796a89-af2c-4eb1-8561-cf33b17db054 pre{padding: 0;}#sk-2b796a89-af2c-4eb1-8561-cf33b17db054 div.sk-toggleable {background-color: white;}#sk-2b796a89-af2c-4eb1-8561-cf33b17db054 label.sk-toggleable__label {cursor: pointer;display: block;width: 100%;margin-bottom: 0;padding: 0.3em;box-sizing: border-box;text-align: center;}#sk-2b796a89-af2c-4eb1-8561-cf33b17db054 div.sk-toggleable__content {max-height: 0;max-width: 0;overflow: hidden;text-align: left;background-color: #f0f8ff;}#sk-2b796a89-af2c-4eb1-8561-cf33b17db054 div.sk-toggleable__content pre {margin: 0.2em;color: black;border-radius: 0.25em;background-color: #f0f8ff;}#sk-2b796a89-af2c-4eb1-8561-cf33b17db054 input.sk-toggleable__control:checked~div.sk-toggleable__content {max-height: 200px;max-width: 100%;overflow: auto;}#sk-2b796a89-af2c-4eb1-8561-cf33b17db054 div.sk-estimator input.sk-toggleable__control:checked~label.sk-toggleable__label {background-color: #d4ebff;}#sk-2b796a89-af2c-4eb1-8561-cf33b17db054 div.sk-label input.sk-toggleable__control:checked~label.sk-toggleable__label {background-color: #d4ebff;}#sk-2b796a89-af2c-4eb1-8561-cf33b17db054 input.sk-hidden--visually {border: 0;clip: rect(1px 1px 1px 1px);clip: rect(1px, 1px, 1px, 1px);height: 1px;margin: -1px;overflow: hidden;padding: 0;position: absolute;width: 1px;}#sk-2b796a89-af2c-4eb1-8561-cf33b17db054 div.sk-estimator {font-family: monospace;background-color: #f0f8ff;border: 1px dotted black;border-radius: 0.25em;box-sizing: border-box;margin-bottom: 0.5em;}#sk-2b796a89-af2c-4eb1-8561-cf33b17db054 div.sk-estimator:hover {background-color: #d4ebff;}#sk-2b796a89-af2c-4eb1-8561-cf33b17db054 div.sk-parallel-item::after {content: \"\";width: 100%;border-bottom: 1px solid gray;flex-grow: 1;}#sk-2b796a89-af2c-4eb1-8561-cf33b17db054 div.sk-label:hover label.sk-toggleable__label {background-color: #d4ebff;}#sk-2b796a89-af2c-4eb1-8561-cf33b17db054 div.sk-serial::before {content: \"\";position: absolute;border-left: 1px solid gray;box-sizing: border-box;top: 2em;bottom: 0;left: 50%;}#sk-2b796a89-af2c-4eb1-8561-cf33b17db054 div.sk-serial {display: flex;flex-direction: column;align-items: center;background-color: white;padding-right: 0.2em;padding-left: 0.2em;}#sk-2b796a89-af2c-4eb1-8561-cf33b17db054 div.sk-item {z-index: 1;}#sk-2b796a89-af2c-4eb1-8561-cf33b17db054 div.sk-parallel {display: flex;align-items: stretch;justify-content: center;background-color: white;}#sk-2b796a89-af2c-4eb1-8561-cf33b17db054 div.sk-parallel::before {content: \"\";position: absolute;border-left: 1px solid gray;box-sizing: border-box;top: 2em;bottom: 0;left: 50%;}#sk-2b796a89-af2c-4eb1-8561-cf33b17db054 div.sk-parallel-item {display: flex;flex-direction: column;position: relative;background-color: white;}#sk-2b796a89-af2c-4eb1-8561-cf33b17db054 div.sk-parallel-item:first-child::after {align-self: flex-end;width: 50%;}#sk-2b796a89-af2c-4eb1-8561-cf33b17db054 div.sk-parallel-item:last-child::after {align-self: flex-start;width: 50%;}#sk-2b796a89-af2c-4eb1-8561-cf33b17db054 div.sk-parallel-item:only-child::after {width: 0;}#sk-2b796a89-af2c-4eb1-8561-cf33b17db054 div.sk-dashed-wrapped {border: 1px dashed gray;margin: 0 0.4em 0.5em 0.4em;box-sizing: border-box;padding-bottom: 0.4em;background-color: white;position: relative;}#sk-2b796a89-af2c-4eb1-8561-cf33b17db054 div.sk-label label {font-family: monospace;font-weight: bold;background-color: white;display: inline-block;line-height: 1.2em;}#sk-2b796a89-af2c-4eb1-8561-cf33b17db054 div.sk-label-container {position: relative;z-index: 2;text-align: center;}#sk-2b796a89-af2c-4eb1-8561-cf33b17db054 div.sk-container {display: inline-block;position: relative;}</style><div id=\"sk-2b796a89-af2c-4eb1-8561-cf33b17db054\" class\"sk-top-container\"><div class=\"sk-container\"><div class=\"sk-item sk-dashed-wrapped\"><div class=\"sk-label-container\"><div class=\"sk-label sk-toggleable\"><input class=\"sk-toggleable__control sk-hidden--visually\" id=\"c8cf1825-b9cb-420f-acde-4c8346c165d2\" type=\"checkbox\" ><label class=\"sk-toggleable__label\" for=\"c8cf1825-b9cb-420f-acde-4c8346c165d2\">Pipeline</label><div class=\"sk-toggleable__content\"><pre>Pipeline(steps=[('columntransformer',\n",
       "                 ColumnTransformer(remainder='passthrough',\n",
       "                                   transformers=[('onehotencoder',\n",
       "                                                  OneHotEncoder(sparse=False),\n",
       "                                                  [2, 6, 10]),\n",
       "                                                 ('ordinalencoder',\n",
       "                                                  OrdinalEncoder(), [1, 8]),\n",
       "                                                 ('standardscaler',\n",
       "                                                  StandardScaler(),\n",
       "                                                  [0, 3, 4, 5, 7, 9])])),\n",
       "                ('perceptron', Perceptron(class_weight='balanced'))])</pre></div></div></div><div class=\"sk-serial\"><div class=\"sk-item sk-dashed-wrapped\"><div class=\"sk-label-container\"><div class=\"sk-label sk-toggleable\"><input class=\"sk-toggleable__control sk-hidden--visually\" id=\"139c1a97-620d-4798-a7f4-1772fc031845\" type=\"checkbox\" ><label class=\"sk-toggleable__label\" for=\"139c1a97-620d-4798-a7f4-1772fc031845\">columntransformer: ColumnTransformer</label><div class=\"sk-toggleable__content\"><pre>ColumnTransformer(remainder='passthrough',\n",
       "                  transformers=[('onehotencoder', OneHotEncoder(sparse=False),\n",
       "                                 [2, 6, 10]),\n",
       "                                ('ordinalencoder', OrdinalEncoder(), [1, 8]),\n",
       "                                ('standardscaler', StandardScaler(),\n",
       "                                 [0, 3, 4, 5, 7, 9])])</pre></div></div></div><div class=\"sk-parallel\"><div class=\"sk-parallel-item\"><div class=\"sk-item\"><div class=\"sk-label-container\"><div class=\"sk-label sk-toggleable\"><input class=\"sk-toggleable__control sk-hidden--visually\" id=\"3fbe58fb-e584-4f41-b6df-25be3ec67b43\" type=\"checkbox\" ><label class=\"sk-toggleable__label\" for=\"3fbe58fb-e584-4f41-b6df-25be3ec67b43\">onehotencoder</label><div class=\"sk-toggleable__content\"><pre>[2, 6, 10]</pre></div></div></div><div class=\"sk-serial\"><div class=\"sk-item\"><div class=\"sk-estimator sk-toggleable\"><input class=\"sk-toggleable__control sk-hidden--visually\" id=\"4770ad04-c466-4807-9eee-5b767fa4e460\" type=\"checkbox\" ><label class=\"sk-toggleable__label\" for=\"4770ad04-c466-4807-9eee-5b767fa4e460\">OneHotEncoder</label><div class=\"sk-toggleable__content\"><pre>OneHotEncoder(sparse=False)</pre></div></div></div></div></div></div><div class=\"sk-parallel-item\"><div class=\"sk-item\"><div class=\"sk-label-container\"><div class=\"sk-label sk-toggleable\"><input class=\"sk-toggleable__control sk-hidden--visually\" id=\"905bb159-b2d8-43fe-a70d-6bc11355ff08\" type=\"checkbox\" ><label class=\"sk-toggleable__label\" for=\"905bb159-b2d8-43fe-a70d-6bc11355ff08\">ordinalencoder</label><div class=\"sk-toggleable__content\"><pre>[1, 8]</pre></div></div></div><div class=\"sk-serial\"><div class=\"sk-item\"><div class=\"sk-estimator sk-toggleable\"><input class=\"sk-toggleable__control sk-hidden--visually\" id=\"e982969c-d3d6-4ed6-aaae-6980f0a439c0\" type=\"checkbox\" ><label class=\"sk-toggleable__label\" for=\"e982969c-d3d6-4ed6-aaae-6980f0a439c0\">OrdinalEncoder</label><div class=\"sk-toggleable__content\"><pre>OrdinalEncoder()</pre></div></div></div></div></div></div><div class=\"sk-parallel-item\"><div class=\"sk-item\"><div class=\"sk-label-container\"><div class=\"sk-label sk-toggleable\"><input class=\"sk-toggleable__control sk-hidden--visually\" id=\"c71ed743-7bbe-4eeb-a488-820394be51fb\" type=\"checkbox\" ><label class=\"sk-toggleable__label\" for=\"c71ed743-7bbe-4eeb-a488-820394be51fb\">standardscaler</label><div class=\"sk-toggleable__content\"><pre>[0, 3, 4, 5, 7, 9]</pre></div></div></div><div class=\"sk-serial\"><div class=\"sk-item\"><div class=\"sk-estimator sk-toggleable\"><input class=\"sk-toggleable__control sk-hidden--visually\" id=\"0dbf3f6c-4758-4f2a-b429-16429205a66c\" type=\"checkbox\" ><label class=\"sk-toggleable__label\" for=\"0dbf3f6c-4758-4f2a-b429-16429205a66c\">StandardScaler</label><div class=\"sk-toggleable__content\"><pre>StandardScaler()</pre></div></div></div></div></div></div><div class=\"sk-parallel-item\"><div class=\"sk-item\"><div class=\"sk-label-container\"><div class=\"sk-label sk-toggleable\"><input class=\"sk-toggleable__control sk-hidden--visually\" id=\"8f24273b-e7ba-412d-a836-6f13d9e8cf00\" type=\"checkbox\" ><label class=\"sk-toggleable__label\" for=\"8f24273b-e7ba-412d-a836-6f13d9e8cf00\">remainder</label><div class=\"sk-toggleable__content\"><pre>[]</pre></div></div></div><div class=\"sk-serial\"><div class=\"sk-item\"><div class=\"sk-estimator sk-toggleable\"><input class=\"sk-toggleable__control sk-hidden--visually\" id=\"d9f5729f-fc63-4392-8604-5700f075e020\" type=\"checkbox\" ><label class=\"sk-toggleable__label\" for=\"d9f5729f-fc63-4392-8604-5700f075e020\">passthrough</label><div class=\"sk-toggleable__content\"><pre>passthrough</pre></div></div></div></div></div></div></div></div><div class=\"sk-item\"><div class=\"sk-estimator sk-toggleable\"><input class=\"sk-toggleable__control sk-hidden--visually\" id=\"b8d0b72a-067c-4dff-b2cb-43cf3ae80ee4\" type=\"checkbox\" ><label class=\"sk-toggleable__label\" for=\"b8d0b72a-067c-4dff-b2cb-43cf3ae80ee4\">Perceptron</label><div class=\"sk-toggleable__content\"><pre>Perceptron(class_weight='balanced')</pre></div></div></div></div></div></div></div>"
      ],
      "text/plain": [
       "Pipeline(steps=[('columntransformer',\n",
       "                 ColumnTransformer(remainder='passthrough',\n",
       "                                   transformers=[('onehotencoder',\n",
       "                                                  OneHotEncoder(sparse=False),\n",
       "                                                  [2, 6, 10]),\n",
       "                                                 ('ordinalencoder',\n",
       "                                                  OrdinalEncoder(), [1, 8]),\n",
       "                                                 ('standardscaler',\n",
       "                                                  StandardScaler(),\n",
       "                                                  [0, 3, 4, 5, 7, 9])])),\n",
       "                ('perceptron', Perceptron(class_weight='balanced'))])"
      ]
     },
     "execution_count": 15,
     "metadata": {},
     "output_type": "execute_result"
    }
   ],
   "source": [
    "#tester avec un autre model\n",
    "from sklearn.linear_model import Perceptron\n",
    "from sklearn.pipeline import make_pipeline\n",
    "prc = Perceptron(class_weight='balanced')\n",
    "pipe_prc = make_pipeline(trans,prc)\n",
    "pipe_prc"
   ]
  },
  {
   "cell_type": "code",
   "execution_count": 16,
   "id": "ef6b2938",
   "metadata": {
    "execution": {
     "iopub.execute_input": "2022-03-16T22:27:08.940410Z",
     "iopub.status.busy": "2022-03-16T22:27:08.938887Z",
     "iopub.status.idle": "2022-03-16T22:27:08.977493Z",
     "shell.execute_reply": "2022-03-16T22:27:08.978027Z",
     "shell.execute_reply.started": "2022-03-16T22:10:47.147898Z"
    },
    "papermill": {
     "duration": 0.085408,
     "end_time": "2022-03-16T22:27:08.978222",
     "exception": false,
     "start_time": "2022-03-16T22:27:08.892814",
     "status": "completed"
    },
    "tags": []
   },
   "outputs": [
    {
     "data": {
      "text/html": [
       "<style>#sk-4b9d684c-d842-4081-9980-dbcba72e7190 {color: black;background-color: white;}#sk-4b9d684c-d842-4081-9980-dbcba72e7190 pre{padding: 0;}#sk-4b9d684c-d842-4081-9980-dbcba72e7190 div.sk-toggleable {background-color: white;}#sk-4b9d684c-d842-4081-9980-dbcba72e7190 label.sk-toggleable__label {cursor: pointer;display: block;width: 100%;margin-bottom: 0;padding: 0.3em;box-sizing: border-box;text-align: center;}#sk-4b9d684c-d842-4081-9980-dbcba72e7190 div.sk-toggleable__content {max-height: 0;max-width: 0;overflow: hidden;text-align: left;background-color: #f0f8ff;}#sk-4b9d684c-d842-4081-9980-dbcba72e7190 div.sk-toggleable__content pre {margin: 0.2em;color: black;border-radius: 0.25em;background-color: #f0f8ff;}#sk-4b9d684c-d842-4081-9980-dbcba72e7190 input.sk-toggleable__control:checked~div.sk-toggleable__content {max-height: 200px;max-width: 100%;overflow: auto;}#sk-4b9d684c-d842-4081-9980-dbcba72e7190 div.sk-estimator input.sk-toggleable__control:checked~label.sk-toggleable__label {background-color: #d4ebff;}#sk-4b9d684c-d842-4081-9980-dbcba72e7190 div.sk-label input.sk-toggleable__control:checked~label.sk-toggleable__label {background-color: #d4ebff;}#sk-4b9d684c-d842-4081-9980-dbcba72e7190 input.sk-hidden--visually {border: 0;clip: rect(1px 1px 1px 1px);clip: rect(1px, 1px, 1px, 1px);height: 1px;margin: -1px;overflow: hidden;padding: 0;position: absolute;width: 1px;}#sk-4b9d684c-d842-4081-9980-dbcba72e7190 div.sk-estimator {font-family: monospace;background-color: #f0f8ff;border: 1px dotted black;border-radius: 0.25em;box-sizing: border-box;margin-bottom: 0.5em;}#sk-4b9d684c-d842-4081-9980-dbcba72e7190 div.sk-estimator:hover {background-color: #d4ebff;}#sk-4b9d684c-d842-4081-9980-dbcba72e7190 div.sk-parallel-item::after {content: \"\";width: 100%;border-bottom: 1px solid gray;flex-grow: 1;}#sk-4b9d684c-d842-4081-9980-dbcba72e7190 div.sk-label:hover label.sk-toggleable__label {background-color: #d4ebff;}#sk-4b9d684c-d842-4081-9980-dbcba72e7190 div.sk-serial::before {content: \"\";position: absolute;border-left: 1px solid gray;box-sizing: border-box;top: 2em;bottom: 0;left: 50%;}#sk-4b9d684c-d842-4081-9980-dbcba72e7190 div.sk-serial {display: flex;flex-direction: column;align-items: center;background-color: white;padding-right: 0.2em;padding-left: 0.2em;}#sk-4b9d684c-d842-4081-9980-dbcba72e7190 div.sk-item {z-index: 1;}#sk-4b9d684c-d842-4081-9980-dbcba72e7190 div.sk-parallel {display: flex;align-items: stretch;justify-content: center;background-color: white;}#sk-4b9d684c-d842-4081-9980-dbcba72e7190 div.sk-parallel::before {content: \"\";position: absolute;border-left: 1px solid gray;box-sizing: border-box;top: 2em;bottom: 0;left: 50%;}#sk-4b9d684c-d842-4081-9980-dbcba72e7190 div.sk-parallel-item {display: flex;flex-direction: column;position: relative;background-color: white;}#sk-4b9d684c-d842-4081-9980-dbcba72e7190 div.sk-parallel-item:first-child::after {align-self: flex-end;width: 50%;}#sk-4b9d684c-d842-4081-9980-dbcba72e7190 div.sk-parallel-item:last-child::after {align-self: flex-start;width: 50%;}#sk-4b9d684c-d842-4081-9980-dbcba72e7190 div.sk-parallel-item:only-child::after {width: 0;}#sk-4b9d684c-d842-4081-9980-dbcba72e7190 div.sk-dashed-wrapped {border: 1px dashed gray;margin: 0 0.4em 0.5em 0.4em;box-sizing: border-box;padding-bottom: 0.4em;background-color: white;position: relative;}#sk-4b9d684c-d842-4081-9980-dbcba72e7190 div.sk-label label {font-family: monospace;font-weight: bold;background-color: white;display: inline-block;line-height: 1.2em;}#sk-4b9d684c-d842-4081-9980-dbcba72e7190 div.sk-label-container {position: relative;z-index: 2;text-align: center;}#sk-4b9d684c-d842-4081-9980-dbcba72e7190 div.sk-container {display: inline-block;position: relative;}</style><div id=\"sk-4b9d684c-d842-4081-9980-dbcba72e7190\" class\"sk-top-container\"><div class=\"sk-container\"><div class=\"sk-item sk-dashed-wrapped\"><div class=\"sk-label-container\"><div class=\"sk-label sk-toggleable\"><input class=\"sk-toggleable__control sk-hidden--visually\" id=\"2a156f7f-0bd5-427c-a9ed-2c4eb79170bc\" type=\"checkbox\" ><label class=\"sk-toggleable__label\" for=\"2a156f7f-0bd5-427c-a9ed-2c4eb79170bc\">Pipeline</label><div class=\"sk-toggleable__content\"><pre>Pipeline(steps=[('columntransformer',\n",
       "                 ColumnTransformer(remainder='passthrough',\n",
       "                                   transformers=[('onehotencoder',\n",
       "                                                  OneHotEncoder(sparse=False),\n",
       "                                                  [2, 6, 10]),\n",
       "                                                 ('ordinalencoder',\n",
       "                                                  OrdinalEncoder(), [1, 8]),\n",
       "                                                 ('standardscaler',\n",
       "                                                  StandardScaler(),\n",
       "                                                  [0, 3, 4, 5, 7, 9])])),\n",
       "                ('perceptron', Perceptron(class_weight='balanced'))])</pre></div></div></div><div class=\"sk-serial\"><div class=\"sk-item sk-dashed-wrapped\"><div class=\"sk-label-container\"><div class=\"sk-label sk-toggleable\"><input class=\"sk-toggleable__control sk-hidden--visually\" id=\"2b604230-4692-431e-a054-0d6789e97107\" type=\"checkbox\" ><label class=\"sk-toggleable__label\" for=\"2b604230-4692-431e-a054-0d6789e97107\">columntransformer: ColumnTransformer</label><div class=\"sk-toggleable__content\"><pre>ColumnTransformer(remainder='passthrough',\n",
       "                  transformers=[('onehotencoder', OneHotEncoder(sparse=False),\n",
       "                                 [2, 6, 10]),\n",
       "                                ('ordinalencoder', OrdinalEncoder(), [1, 8]),\n",
       "                                ('standardscaler', StandardScaler(),\n",
       "                                 [0, 3, 4, 5, 7, 9])])</pre></div></div></div><div class=\"sk-parallel\"><div class=\"sk-parallel-item\"><div class=\"sk-item\"><div class=\"sk-label-container\"><div class=\"sk-label sk-toggleable\"><input class=\"sk-toggleable__control sk-hidden--visually\" id=\"46b314ff-d539-49e3-9211-93b5755eb800\" type=\"checkbox\" ><label class=\"sk-toggleable__label\" for=\"46b314ff-d539-49e3-9211-93b5755eb800\">onehotencoder</label><div class=\"sk-toggleable__content\"><pre>[2, 6, 10]</pre></div></div></div><div class=\"sk-serial\"><div class=\"sk-item\"><div class=\"sk-estimator sk-toggleable\"><input class=\"sk-toggleable__control sk-hidden--visually\" id=\"774c3882-699c-4d59-a9e6-0d624dfa3aa8\" type=\"checkbox\" ><label class=\"sk-toggleable__label\" for=\"774c3882-699c-4d59-a9e6-0d624dfa3aa8\">OneHotEncoder</label><div class=\"sk-toggleable__content\"><pre>OneHotEncoder(sparse=False)</pre></div></div></div></div></div></div><div class=\"sk-parallel-item\"><div class=\"sk-item\"><div class=\"sk-label-container\"><div class=\"sk-label sk-toggleable\"><input class=\"sk-toggleable__control sk-hidden--visually\" id=\"449f5531-6fe7-4bf3-bf9c-00559227ae3a\" type=\"checkbox\" ><label class=\"sk-toggleable__label\" for=\"449f5531-6fe7-4bf3-bf9c-00559227ae3a\">ordinalencoder</label><div class=\"sk-toggleable__content\"><pre>[1, 8]</pre></div></div></div><div class=\"sk-serial\"><div class=\"sk-item\"><div class=\"sk-estimator sk-toggleable\"><input class=\"sk-toggleable__control sk-hidden--visually\" id=\"cd9a09a3-dcce-4844-b2d1-60a0c77fd46c\" type=\"checkbox\" ><label class=\"sk-toggleable__label\" for=\"cd9a09a3-dcce-4844-b2d1-60a0c77fd46c\">OrdinalEncoder</label><div class=\"sk-toggleable__content\"><pre>OrdinalEncoder()</pre></div></div></div></div></div></div><div class=\"sk-parallel-item\"><div class=\"sk-item\"><div class=\"sk-label-container\"><div class=\"sk-label sk-toggleable\"><input class=\"sk-toggleable__control sk-hidden--visually\" id=\"1e0c68a2-2fee-4077-88de-b44f2ee18194\" type=\"checkbox\" ><label class=\"sk-toggleable__label\" for=\"1e0c68a2-2fee-4077-88de-b44f2ee18194\">standardscaler</label><div class=\"sk-toggleable__content\"><pre>[0, 3, 4, 5, 7, 9]</pre></div></div></div><div class=\"sk-serial\"><div class=\"sk-item\"><div class=\"sk-estimator sk-toggleable\"><input class=\"sk-toggleable__control sk-hidden--visually\" id=\"ebc2774b-5de8-4229-8dff-89dc419dabd8\" type=\"checkbox\" ><label class=\"sk-toggleable__label\" for=\"ebc2774b-5de8-4229-8dff-89dc419dabd8\">StandardScaler</label><div class=\"sk-toggleable__content\"><pre>StandardScaler()</pre></div></div></div></div></div></div><div class=\"sk-parallel-item\"><div class=\"sk-item\"><div class=\"sk-label-container\"><div class=\"sk-label sk-toggleable\"><input class=\"sk-toggleable__control sk-hidden--visually\" id=\"006d7dc3-50e2-435e-ad7e-74690cd592fc\" type=\"checkbox\" ><label class=\"sk-toggleable__label\" for=\"006d7dc3-50e2-435e-ad7e-74690cd592fc\">remainder</label><div class=\"sk-toggleable__content\"><pre>[]</pre></div></div></div><div class=\"sk-serial\"><div class=\"sk-item\"><div class=\"sk-estimator sk-toggleable\"><input class=\"sk-toggleable__control sk-hidden--visually\" id=\"ef67be65-af28-417c-ab6d-a35344fd97d8\" type=\"checkbox\" ><label class=\"sk-toggleable__label\" for=\"ef67be65-af28-417c-ab6d-a35344fd97d8\">passthrough</label><div class=\"sk-toggleable__content\"><pre>passthrough</pre></div></div></div></div></div></div></div></div><div class=\"sk-item\"><div class=\"sk-estimator sk-toggleable\"><input class=\"sk-toggleable__control sk-hidden--visually\" id=\"82b141d9-e4c9-4314-b355-46eb10ae0521\" type=\"checkbox\" ><label class=\"sk-toggleable__label\" for=\"82b141d9-e4c9-4314-b355-46eb10ae0521\">Perceptron</label><div class=\"sk-toggleable__content\"><pre>Perceptron(class_weight='balanced')</pre></div></div></div></div></div></div></div>"
      ],
      "text/plain": [
       "Pipeline(steps=[('columntransformer',\n",
       "                 ColumnTransformer(remainder='passthrough',\n",
       "                                   transformers=[('onehotencoder',\n",
       "                                                  OneHotEncoder(sparse=False),\n",
       "                                                  [2, 6, 10]),\n",
       "                                                 ('ordinalencoder',\n",
       "                                                  OrdinalEncoder(), [1, 8]),\n",
       "                                                 ('standardscaler',\n",
       "                                                  StandardScaler(),\n",
       "                                                  [0, 3, 4, 5, 7, 9])])),\n",
       "                ('perceptron', Perceptron(class_weight='balanced'))])"
      ]
     },
     "execution_count": 16,
     "metadata": {},
     "output_type": "execute_result"
    }
   ],
   "source": [
    "pipe_prc.fit(x_train,y_train)"
   ]
  },
  {
   "cell_type": "code",
   "execution_count": 17,
   "id": "f32ec9c4",
   "metadata": {
    "execution": {
     "iopub.execute_input": "2022-03-16T22:27:09.058697Z",
     "iopub.status.busy": "2022-03-16T22:27:09.058005Z",
     "iopub.status.idle": "2022-03-16T22:27:09.068476Z",
     "shell.execute_reply": "2022-03-16T22:27:09.069043Z",
     "shell.execute_reply.started": "2022-03-16T22:12:19.332051Z"
    },
    "papermill": {
     "duration": 0.052268,
     "end_time": "2022-03-16T22:27:09.069227",
     "exception": false,
     "start_time": "2022-03-16T22:27:09.016959",
     "status": "completed"
    },
    "tags": []
   },
   "outputs": [],
   "source": [
    "pred_prc=pipe_prc.predict(x_test)"
   ]
  },
  {
   "cell_type": "code",
   "execution_count": 18,
   "id": "99997b38",
   "metadata": {
    "execution": {
     "iopub.execute_input": "2022-03-16T22:27:09.150170Z",
     "iopub.status.busy": "2022-03-16T22:27:09.149468Z",
     "iopub.status.idle": "2022-03-16T22:27:09.155321Z",
     "shell.execute_reply": "2022-03-16T22:27:09.155875Z",
     "shell.execute_reply.started": "2022-03-16T22:12:38.355701Z"
    },
    "papermill": {
     "duration": 0.047882,
     "end_time": "2022-03-16T22:27:09.156054",
     "exception": false,
     "start_time": "2022-03-16T22:27:09.108172",
     "status": "completed"
    },
    "tags": []
   },
   "outputs": [
    {
     "data": {
      "text/plain": [
       "82.06521739130434"
      ]
     },
     "execution_count": 18,
     "metadata": {},
     "output_type": "execute_result"
    }
   ],
   "source": [
    "accuracy_score(pred_prc,y_test)*100"
   ]
  },
  {
   "cell_type": "code",
   "execution_count": 19,
   "id": "d1302ea8",
   "metadata": {
    "execution": {
     "iopub.execute_input": "2022-03-16T22:27:09.243640Z",
     "iopub.status.busy": "2022-03-16T22:27:09.242680Z",
     "iopub.status.idle": "2022-03-16T22:27:09.255938Z",
     "shell.execute_reply": "2022-03-16T22:27:09.256593Z",
     "shell.execute_reply.started": "2022-03-16T22:14:03.592160Z"
    },
    "papermill": {
     "duration": 0.06129,
     "end_time": "2022-03-16T22:27:09.256759",
     "exception": false,
     "start_time": "2022-03-16T22:27:09.195469",
     "status": "completed"
    },
    "tags": []
   },
   "outputs": [
    {
     "data": {
      "text/html": [
       "<div>\n",
       "<style scoped>\n",
       "    .dataframe tbody tr th:only-of-type {\n",
       "        vertical-align: middle;\n",
       "    }\n",
       "\n",
       "    .dataframe tbody tr th {\n",
       "        vertical-align: top;\n",
       "    }\n",
       "\n",
       "    .dataframe thead th {\n",
       "        text-align: right;\n",
       "    }\n",
       "</style>\n",
       "<table border=\"1\" class=\"dataframe\">\n",
       "  <thead>\n",
       "    <tr style=\"text-align: right;\">\n",
       "      <th></th>\n",
       "      <th>Age</th>\n",
       "      <th>Sex</th>\n",
       "      <th>ChestPainType</th>\n",
       "      <th>RestingBP</th>\n",
       "      <th>Cholesterol</th>\n",
       "      <th>FastingBS</th>\n",
       "      <th>RestingECG</th>\n",
       "      <th>MaxHR</th>\n",
       "      <th>ExerciseAngina</th>\n",
       "      <th>Oldpeak</th>\n",
       "      <th>ST_Slope</th>\n",
       "      <th>HeartDisease</th>\n",
       "    </tr>\n",
       "  </thead>\n",
       "  <tbody>\n",
       "    <tr>\n",
       "      <th>0</th>\n",
       "      <td>40</td>\n",
       "      <td>M</td>\n",
       "      <td>ATA</td>\n",
       "      <td>140</td>\n",
       "      <td>289</td>\n",
       "      <td>0</td>\n",
       "      <td>Normal</td>\n",
       "      <td>172</td>\n",
       "      <td>N</td>\n",
       "      <td>0.0</td>\n",
       "      <td>Up</td>\n",
       "      <td>0</td>\n",
       "    </tr>\n",
       "    <tr>\n",
       "      <th>1</th>\n",
       "      <td>49</td>\n",
       "      <td>F</td>\n",
       "      <td>NAP</td>\n",
       "      <td>160</td>\n",
       "      <td>180</td>\n",
       "      <td>0</td>\n",
       "      <td>Normal</td>\n",
       "      <td>156</td>\n",
       "      <td>N</td>\n",
       "      <td>1.0</td>\n",
       "      <td>Flat</td>\n",
       "      <td>1</td>\n",
       "    </tr>\n",
       "    <tr>\n",
       "      <th>2</th>\n",
       "      <td>37</td>\n",
       "      <td>M</td>\n",
       "      <td>ATA</td>\n",
       "      <td>130</td>\n",
       "      <td>283</td>\n",
       "      <td>0</td>\n",
       "      <td>ST</td>\n",
       "      <td>98</td>\n",
       "      <td>N</td>\n",
       "      <td>0.0</td>\n",
       "      <td>Up</td>\n",
       "      <td>0</td>\n",
       "    </tr>\n",
       "    <tr>\n",
       "      <th>3</th>\n",
       "      <td>48</td>\n",
       "      <td>F</td>\n",
       "      <td>ASY</td>\n",
       "      <td>138</td>\n",
       "      <td>214</td>\n",
       "      <td>0</td>\n",
       "      <td>Normal</td>\n",
       "      <td>108</td>\n",
       "      <td>Y</td>\n",
       "      <td>1.5</td>\n",
       "      <td>Flat</td>\n",
       "      <td>1</td>\n",
       "    </tr>\n",
       "    <tr>\n",
       "      <th>4</th>\n",
       "      <td>54</td>\n",
       "      <td>M</td>\n",
       "      <td>NAP</td>\n",
       "      <td>150</td>\n",
       "      <td>195</td>\n",
       "      <td>0</td>\n",
       "      <td>Normal</td>\n",
       "      <td>122</td>\n",
       "      <td>N</td>\n",
       "      <td>0.0</td>\n",
       "      <td>Up</td>\n",
       "      <td>0</td>\n",
       "    </tr>\n",
       "    <tr>\n",
       "      <th>...</th>\n",
       "      <td>...</td>\n",
       "      <td>...</td>\n",
       "      <td>...</td>\n",
       "      <td>...</td>\n",
       "      <td>...</td>\n",
       "      <td>...</td>\n",
       "      <td>...</td>\n",
       "      <td>...</td>\n",
       "      <td>...</td>\n",
       "      <td>...</td>\n",
       "      <td>...</td>\n",
       "      <td>...</td>\n",
       "    </tr>\n",
       "    <tr>\n",
       "      <th>913</th>\n",
       "      <td>45</td>\n",
       "      <td>M</td>\n",
       "      <td>TA</td>\n",
       "      <td>110</td>\n",
       "      <td>264</td>\n",
       "      <td>0</td>\n",
       "      <td>Normal</td>\n",
       "      <td>132</td>\n",
       "      <td>N</td>\n",
       "      <td>1.2</td>\n",
       "      <td>Flat</td>\n",
       "      <td>1</td>\n",
       "    </tr>\n",
       "    <tr>\n",
       "      <th>914</th>\n",
       "      <td>68</td>\n",
       "      <td>M</td>\n",
       "      <td>ASY</td>\n",
       "      <td>144</td>\n",
       "      <td>193</td>\n",
       "      <td>1</td>\n",
       "      <td>Normal</td>\n",
       "      <td>141</td>\n",
       "      <td>N</td>\n",
       "      <td>3.4</td>\n",
       "      <td>Flat</td>\n",
       "      <td>1</td>\n",
       "    </tr>\n",
       "    <tr>\n",
       "      <th>915</th>\n",
       "      <td>57</td>\n",
       "      <td>M</td>\n",
       "      <td>ASY</td>\n",
       "      <td>130</td>\n",
       "      <td>131</td>\n",
       "      <td>0</td>\n",
       "      <td>Normal</td>\n",
       "      <td>115</td>\n",
       "      <td>Y</td>\n",
       "      <td>1.2</td>\n",
       "      <td>Flat</td>\n",
       "      <td>1</td>\n",
       "    </tr>\n",
       "    <tr>\n",
       "      <th>916</th>\n",
       "      <td>57</td>\n",
       "      <td>F</td>\n",
       "      <td>ATA</td>\n",
       "      <td>130</td>\n",
       "      <td>236</td>\n",
       "      <td>0</td>\n",
       "      <td>LVH</td>\n",
       "      <td>174</td>\n",
       "      <td>N</td>\n",
       "      <td>0.0</td>\n",
       "      <td>Flat</td>\n",
       "      <td>1</td>\n",
       "    </tr>\n",
       "    <tr>\n",
       "      <th>917</th>\n",
       "      <td>38</td>\n",
       "      <td>M</td>\n",
       "      <td>NAP</td>\n",
       "      <td>138</td>\n",
       "      <td>175</td>\n",
       "      <td>0</td>\n",
       "      <td>Normal</td>\n",
       "      <td>173</td>\n",
       "      <td>N</td>\n",
       "      <td>0.0</td>\n",
       "      <td>Up</td>\n",
       "      <td>0</td>\n",
       "    </tr>\n",
       "  </tbody>\n",
       "</table>\n",
       "<p>918 rows × 12 columns</p>\n",
       "</div>"
      ],
      "text/plain": [
       "     Age Sex ChestPainType  RestingBP  Cholesterol  FastingBS RestingECG  \\\n",
       "0     40   M           ATA        140          289          0     Normal   \n",
       "1     49   F           NAP        160          180          0     Normal   \n",
       "2     37   M           ATA        130          283          0         ST   \n",
       "3     48   F           ASY        138          214          0     Normal   \n",
       "4     54   M           NAP        150          195          0     Normal   \n",
       "..   ...  ..           ...        ...          ...        ...        ...   \n",
       "913   45   M            TA        110          264          0     Normal   \n",
       "914   68   M           ASY        144          193          1     Normal   \n",
       "915   57   M           ASY        130          131          0     Normal   \n",
       "916   57   F           ATA        130          236          0        LVH   \n",
       "917   38   M           NAP        138          175          0     Normal   \n",
       "\n",
       "     MaxHR ExerciseAngina  Oldpeak ST_Slope  HeartDisease  \n",
       "0      172              N      0.0       Up             0  \n",
       "1      156              N      1.0     Flat             1  \n",
       "2       98              N      0.0       Up             0  \n",
       "3      108              Y      1.5     Flat             1  \n",
       "4      122              N      0.0       Up             0  \n",
       "..     ...            ...      ...      ...           ...  \n",
       "913    132              N      1.2     Flat             1  \n",
       "914    141              N      3.4     Flat             1  \n",
       "915    115              Y      1.2     Flat             1  \n",
       "916    174              N      0.0     Flat             1  \n",
       "917    173              N      0.0       Up             0  \n",
       "\n",
       "[918 rows x 12 columns]"
      ]
     },
     "execution_count": 19,
     "metadata": {},
     "output_type": "execute_result"
    }
   ],
   "source": [
    "data"
   ]
  },
  {
   "cell_type": "code",
   "execution_count": 20,
   "id": "800979bd",
   "metadata": {
    "execution": {
     "iopub.execute_input": "2022-03-16T22:27:09.339712Z",
     "iopub.status.busy": "2022-03-16T22:27:09.338860Z",
     "iopub.status.idle": "2022-03-16T22:27:09.348202Z",
     "shell.execute_reply": "2022-03-16T22:27:09.348759Z",
     "shell.execute_reply.started": "2022-03-16T22:17:22.987117Z"
    },
    "papermill": {
     "duration": 0.052229,
     "end_time": "2022-03-16T22:27:09.348920",
     "exception": false,
     "start_time": "2022-03-16T22:27:09.296691",
     "status": "completed"
    },
    "tags": []
   },
   "outputs": [
    {
     "data": {
      "text/html": [
       "<style>#sk-f858d7c8-7b69-4645-b8a1-0234157dde6a {color: black;background-color: white;}#sk-f858d7c8-7b69-4645-b8a1-0234157dde6a pre{padding: 0;}#sk-f858d7c8-7b69-4645-b8a1-0234157dde6a div.sk-toggleable {background-color: white;}#sk-f858d7c8-7b69-4645-b8a1-0234157dde6a label.sk-toggleable__label {cursor: pointer;display: block;width: 100%;margin-bottom: 0;padding: 0.3em;box-sizing: border-box;text-align: center;}#sk-f858d7c8-7b69-4645-b8a1-0234157dde6a div.sk-toggleable__content {max-height: 0;max-width: 0;overflow: hidden;text-align: left;background-color: #f0f8ff;}#sk-f858d7c8-7b69-4645-b8a1-0234157dde6a div.sk-toggleable__content pre {margin: 0.2em;color: black;border-radius: 0.25em;background-color: #f0f8ff;}#sk-f858d7c8-7b69-4645-b8a1-0234157dde6a input.sk-toggleable__control:checked~div.sk-toggleable__content {max-height: 200px;max-width: 100%;overflow: auto;}#sk-f858d7c8-7b69-4645-b8a1-0234157dde6a div.sk-estimator input.sk-toggleable__control:checked~label.sk-toggleable__label {background-color: #d4ebff;}#sk-f858d7c8-7b69-4645-b8a1-0234157dde6a div.sk-label input.sk-toggleable__control:checked~label.sk-toggleable__label {background-color: #d4ebff;}#sk-f858d7c8-7b69-4645-b8a1-0234157dde6a input.sk-hidden--visually {border: 0;clip: rect(1px 1px 1px 1px);clip: rect(1px, 1px, 1px, 1px);height: 1px;margin: -1px;overflow: hidden;padding: 0;position: absolute;width: 1px;}#sk-f858d7c8-7b69-4645-b8a1-0234157dde6a div.sk-estimator {font-family: monospace;background-color: #f0f8ff;border: 1px dotted black;border-radius: 0.25em;box-sizing: border-box;margin-bottom: 0.5em;}#sk-f858d7c8-7b69-4645-b8a1-0234157dde6a div.sk-estimator:hover {background-color: #d4ebff;}#sk-f858d7c8-7b69-4645-b8a1-0234157dde6a div.sk-parallel-item::after {content: \"\";width: 100%;border-bottom: 1px solid gray;flex-grow: 1;}#sk-f858d7c8-7b69-4645-b8a1-0234157dde6a div.sk-label:hover label.sk-toggleable__label {background-color: #d4ebff;}#sk-f858d7c8-7b69-4645-b8a1-0234157dde6a div.sk-serial::before {content: \"\";position: absolute;border-left: 1px solid gray;box-sizing: border-box;top: 2em;bottom: 0;left: 50%;}#sk-f858d7c8-7b69-4645-b8a1-0234157dde6a div.sk-serial {display: flex;flex-direction: column;align-items: center;background-color: white;padding-right: 0.2em;padding-left: 0.2em;}#sk-f858d7c8-7b69-4645-b8a1-0234157dde6a div.sk-item {z-index: 1;}#sk-f858d7c8-7b69-4645-b8a1-0234157dde6a div.sk-parallel {display: flex;align-items: stretch;justify-content: center;background-color: white;}#sk-f858d7c8-7b69-4645-b8a1-0234157dde6a div.sk-parallel::before {content: \"\";position: absolute;border-left: 1px solid gray;box-sizing: border-box;top: 2em;bottom: 0;left: 50%;}#sk-f858d7c8-7b69-4645-b8a1-0234157dde6a div.sk-parallel-item {display: flex;flex-direction: column;position: relative;background-color: white;}#sk-f858d7c8-7b69-4645-b8a1-0234157dde6a div.sk-parallel-item:first-child::after {align-self: flex-end;width: 50%;}#sk-f858d7c8-7b69-4645-b8a1-0234157dde6a div.sk-parallel-item:last-child::after {align-self: flex-start;width: 50%;}#sk-f858d7c8-7b69-4645-b8a1-0234157dde6a div.sk-parallel-item:only-child::after {width: 0;}#sk-f858d7c8-7b69-4645-b8a1-0234157dde6a div.sk-dashed-wrapped {border: 1px dashed gray;margin: 0 0.4em 0.5em 0.4em;box-sizing: border-box;padding-bottom: 0.4em;background-color: white;position: relative;}#sk-f858d7c8-7b69-4645-b8a1-0234157dde6a div.sk-label label {font-family: monospace;font-weight: bold;background-color: white;display: inline-block;line-height: 1.2em;}#sk-f858d7c8-7b69-4645-b8a1-0234157dde6a div.sk-label-container {position: relative;z-index: 2;text-align: center;}#sk-f858d7c8-7b69-4645-b8a1-0234157dde6a div.sk-container {display: inline-block;position: relative;}</style><div id=\"sk-f858d7c8-7b69-4645-b8a1-0234157dde6a\" class\"sk-top-container\"><div class=\"sk-container\"><div class=\"sk-item\"><div class=\"sk-estimator sk-toggleable\"><input class=\"sk-toggleable__control sk-hidden--visually\" id=\"3fb49bc1-92a5-4ad1-a25e-09428f9c4fc2\" type=\"checkbox\" checked><label class=\"sk-toggleable__label\" for=\"3fb49bc1-92a5-4ad1-a25e-09428f9c4fc2\">Perceptron</label><div class=\"sk-toggleable__content\"><pre>Perceptron(class_weight='balanced')</pre></div></div></div></div></div>"
      ],
      "text/plain": [
       "Perceptron(class_weight='balanced')"
      ]
     },
     "execution_count": 20,
     "metadata": {},
     "output_type": "execute_result"
    }
   ],
   "source": [
    "x2=data.loc[:,['MaxHR','Age']]\n",
    "y2=data.HeartDisease\n",
    "#Model= KNeighborsClassifier(10)\n",
    "prc = Perceptron(class_weight='balanced')\n",
    "prc.fit(x2,y2)\n",
    "\n"
   ]
  },
  {
   "cell_type": "code",
   "execution_count": 21,
   "id": "37ff1c36",
   "metadata": {
    "execution": {
     "iopub.execute_input": "2022-03-16T22:27:09.433092Z",
     "iopub.status.busy": "2022-03-16T22:27:09.432294Z",
     "iopub.status.idle": "2022-03-16T22:27:09.724943Z",
     "shell.execute_reply": "2022-03-16T22:27:09.725332Z",
     "shell.execute_reply.started": "2022-03-16T22:18:47.997375Z"
    },
    "papermill": {
     "duration": 0.336132,
     "end_time": "2022-03-16T22:27:09.725475",
     "exception": false,
     "start_time": "2022-03-16T22:27:09.389343",
     "status": "completed"
    },
    "tags": []
   },
   "outputs": [
    {
     "name": "stderr",
     "output_type": "stream",
     "text": [
      "/opt/conda/lib/python3.7/site-packages/sklearn/base.py:446: UserWarning: X does not have valid feature names, but Perceptron was fitted with feature names\n",
      "  \"X does not have valid feature names, but\"\n"
     ]
    },
    {
     "data": {
      "text/plain": [
       "<AxesSubplot:>"
      ]
     },
     "execution_count": 21,
     "metadata": {},
     "output_type": "execute_result"
    },
    {
     "data": {
      "image/png": "[encoded data removed]",
      "text/plain": [
       "<Figure size 432x288 with 1 Axes>"
      ]
     },
     "metadata": {
      "needs_background": "light"
     },
     "output_type": "display_data"
    }
   ],
   "source": [
    "from mlxtend.plotting import plot_decision_regions\n",
    "plot_decision_regions(x2.values,y2.values,clf=prc,legend=2)"
   ]
  },
  {
   "cell_type": "code",
   "execution_count": 22,
   "id": "b372b341",
   "metadata": {
    "execution": {
     "iopub.execute_input": "2022-03-16T22:27:09.786103Z",
     "iopub.status.busy": "2022-03-16T22:27:09.785476Z",
     "iopub.status.idle": "2022-03-16T22:27:09.813744Z",
     "shell.execute_reply": "2022-03-16T22:27:09.813169Z",
     "shell.execute_reply.started": "2022-03-16T22:24:57.767477Z"
    },
    "papermill": {
     "duration": 0.059544,
     "end_time": "2022-03-16T22:27:09.813881",
     "exception": false,
     "start_time": "2022-03-16T22:27:09.754337",
     "status": "completed"
    },
    "tags": []
   },
   "outputs": [
    {
     "data": {
      "text/plain": [
       "84.23913043478261"
      ]
     },
     "execution_count": 22,
     "metadata": {},
     "output_type": "execute_result"
    }
   ],
   "source": [
    "from sklearn.linear_model import LogisticRegression\n",
    "from sklearn.pipeline import make_pipeline\n",
    "model= LogisticRegression (solver='liblinear')\n",
    "pipe= make_pipeline(trans,model)\n",
    "pipe.fit(x_train,y_train)\n",
    "prediction=pipe.predict(x_test)\n",
    "accuracy_score(prediction,y_test)*100"
   ]
  },
  {
   "cell_type": "code",
   "execution_count": 23,
   "id": "147ac9e3",
   "metadata": {
    "execution": {
     "iopub.execute_input": "2022-03-16T22:27:09.911675Z",
     "iopub.status.busy": "2022-03-16T22:27:09.910720Z",
     "iopub.status.idle": "2022-03-16T22:27:09.963230Z",
     "shell.execute_reply": "2022-03-16T22:27:09.963875Z",
     "shell.execute_reply.started": "2022-03-16T22:25:48.378468Z"
    },
    "papermill": {
     "duration": 0.106172,
     "end_time": "2022-03-16T22:27:09.964046",
     "exception": false,
     "start_time": "2022-03-16T22:27:09.857874",
     "status": "completed"
    },
    "tags": []
   },
   "outputs": [
    {
     "data": {
      "text/plain": [
       "84.78260869565217"
      ]
     },
     "execution_count": 23,
     "metadata": {},
     "output_type": "execute_result"
    }
   ],
   "source": [
    "from sklearn.svm import SVC\n",
    "from sklearn.pipeline import make_pipeline\n",
    "algorithm=SVC()\n",
    "pipe3= make_pipeline(trans,algorithm)\n",
    "pipe3.fit(x_train,y_train)\n",
    "prediction1=pipe3.predict(x_test)\n",
    "accuracy_score(prediction1,y_test)*100"
   ]
  }
 ],
 "metadata": {
  "kernelspec": {
   "display_name": "Python 3",
   "language": "python",
   "name": "python3"
  },
  "language_info": {
   "codemirror_mode": {
    "name": "ipython",
    "version": 3
   },
   "file_extension": ".py",
   "mimetype": "text/x-python",
   "name": "python",
   "nbconvert_exporter": "python",
   "pygments_lexer": "ipython3",
   "version": "3.7.12"
  },
  "papermill": {
   "default_parameters": {},
   "duration": 14.691661,
   "end_time": "2022-03-16T22:27:10.717527",
   "environment_variables": {},
   "exception": null,
   "input_path": "__notebook__.ipynb",
   "output_path": "__notebook__.ipynb",
   "parameters": {},
   "start_time": "2022-03-16T22:26:56.025866",
   "version": "2.3.3"
  }
 },
 "nbformat": 4,
 "nbformat_minor": 5
}
